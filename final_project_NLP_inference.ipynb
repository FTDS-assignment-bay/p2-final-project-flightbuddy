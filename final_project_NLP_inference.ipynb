{
 "cells": [
  {
   "cell_type": "code",
   "execution_count": 1,
   "metadata": {},
   "outputs": [
    {
     "name": "stdout",
     "output_type": "stream",
     "text": [
      "WARNING:tensorflow:From c:\\Users\\septi\\anaconda3\\envs\\hacktive\\lib\\site-packages\\keras\\src\\losses.py:2976: The name tf.losses.sparse_softmax_cross_entropy is deprecated. Please use tf.compat.v1.losses.sparse_softmax_cross_entropy instead.\n",
      "\n"
     ]
    },
    {
     "name": "stderr",
     "output_type": "stream",
     "text": [
      "[nltk_data] Downloading package stopwords to\n",
      "[nltk_data]     C:\\Users\\septi\\AppData\\Roaming\\nltk_data...\n",
      "[nltk_data]   Package stopwords is already up-to-date!\n",
      "[nltk_data] Downloading package punkt to\n",
      "[nltk_data]     C:\\Users\\septi\\AppData\\Roaming\\nltk_data...\n",
      "[nltk_data]   Package punkt is already up-to-date!\n"
     ]
    },
    {
     "data": {
      "text/plain": [
       "True"
      ]
     },
     "execution_count": 1,
     "metadata": {},
     "output_type": "execute_result"
    }
   ],
   "source": [
    "# Library Load Model\n",
    "import pandas as pd\n",
    "import numpy as np\n",
    "import tensorflow as tf\n",
    "import zipfile\n",
    "import os\n",
    "import nltk\n",
    "import re\n",
    "\n",
    "# Library Pre-Processing\n",
    "from nltk.stem import WordNetLemmatizer\n",
    "from tensorflow.keras.models import load_model\n",
    "from nltk.corpus import stopwords\n",
    "from nltk.tokenize import word_tokenize\n",
    "from nltk.stem import PorterStemmer\n",
    "from tensorflow.keras.models import Sequential\n",
    "\n",
    "nltk.download('stopwords')\n",
    "nltk.download('punkt')"
   ]
  },
  {
   "cell_type": "code",
   "execution_count": 2,
   "metadata": {},
   "outputs": [
    {
     "name": "stdout",
     "output_type": "stream",
     "text": [
      "WARNING:tensorflow:From c:\\Users\\septi\\anaconda3\\envs\\hacktive\\lib\\site-packages\\keras\\src\\saving\\legacy\\saved_model\\load.py:107: The name tf.gfile.Exists is deprecated. Please use tf.io.gfile.exists instead.\n",
      "\n",
      "WARNING:tensorflow:From c:\\Users\\septi\\anaconda3\\envs\\hacktive\\lib\\site-packages\\keras\\src\\saving\\legacy\\saved_model\\load.py:1113: The name tf.executing_eagerly_outside_functions is deprecated. Please use tf.compat.v1.executing_eagerly_outside_functions instead.\n",
      "\n"
     ]
    }
   ],
   "source": [
    "# Specify the path to your zip file\n",
    "zip_file_path = 'model_logreg.zip'\n",
    "\n",
    "# Read the zip file\n",
    "with zipfile.ZipFile(zip_file_path, 'r') as zip_ref:\n",
    "    \n",
    "    # Extract all contents to a directory named 'unzipped_model'\n",
    "    zip_ref.extractall('unzipped_model')\n",
    "\n",
    "# Load the model from the unzipped folder\n",
    "unzipped_model_path = os.path.join('unzipped_model', 'model_logreg')\n",
    "model = load_model(unzipped_model_path)"
   ]
  },
  {
   "cell_type": "code",
   "execution_count": 3,
   "metadata": {},
   "outputs": [],
   "source": [
    "# Define Stopwords\n",
    "stpwds_id = list(set(stopwords.words('english')))\n",
    "\n",
    "# Add custom stopwords\n",
    "custom_stopwords = [\n",
    "    'the', 'to', 'and', 'of', 'a', 'in', 'for', '#coronavirus', 'is', 'are', 'on', 'I', 'you', 'at', 'prices', 'with', 'have', 'this', 'that', 'be', 'grocery',\n",
    "    'store', 'as', 'food', 'supermarket', 'from', 'people', 'your', 'will', 'it', 'all', 'The', 'COVID-19', 'we', 'not', 'has', '&', 'by', 'our', 'or', '19',\n",
    "    'can', 'out', 'my', 'up', '#COVID19', 'their', 'more', 'they', 'during'\n",
    "]\n",
    "stpwds_id.extend(custom_stopwords)\n",
    "\n",
    "# Define Stemming\n",
    "stemmer = PorterStemmer()"
   ]
  },
  {
   "cell_type": "code",
   "execution_count": 4,
   "metadata": {},
   "outputs": [],
   "source": [
    "# Create A Function for Text Preprocessing\n",
    "def text_preprocessing(text):\n",
    "    # Case folding\n",
    "    text = text.lower()\n",
    "\n",
    "    # Mention removal\n",
    "    text = re.sub(r'https?://(?:www\\.[^\\s\\n\\r]+|[^\\s\\n\\r]+)', '', text)\n",
    "\n",
    "    # Hashtags removal\n",
    "    text = re.sub(r'#', '', text)\n",
    "\n",
    "    # Newline removal (\\n)\n",
    "    text = re.sub(r'[\\n\\r]', '', text)\n",
    "\n",
    "    # Replaces the numbers with an empty string\n",
    "    text = re.sub(r'\\d+', '', text)\n",
    "\n",
    "    # Whitespace removal\n",
    "    text = text.strip()\n",
    "\n",
    "    # URL removal\n",
    "    text = re.sub(r\"http\\S+\", \" \", text)\n",
    "    text = re.sub(r\"www.\\S+\", \" \", text)\n",
    "\n",
    "    # Non-letter removal (such as emoticon, symbol (like μ, $, 兀), etc.)\n",
    "    text = re.sub(\"[^A-Za-z\\s']\", \" \", text)\n",
    "\n",
    "    # Tokenization\n",
    "    tokens = word_tokenize(text)\n",
    "\n",
    "    # Stopwords removal\n",
    "    tokens = [word for word in tokens if word not in stpwds_id]\n",
    "\n",
    "    # Stemming\n",
    "    tokens = [stemmer.stem(word) for word in tokens]\n",
    "\n",
    "    # Combining Tokens\n",
    "    text = ' '.join(tokens)\n",
    "\n",
    "    return text"
   ]
  },
  {
   "cell_type": "code",
   "execution_count": 5,
   "metadata": {},
   "outputs": [
    {
     "data": {
      "text/html": [
       "<div>\n",
       "<style scoped>\n",
       "    .dataframe tbody tr th:only-of-type {\n",
       "        vertical-align: middle;\n",
       "    }\n",
       "\n",
       "    .dataframe tbody tr th {\n",
       "        vertical-align: top;\n",
       "    }\n",
       "\n",
       "    .dataframe thead th {\n",
       "        text-align: right;\n",
       "    }\n",
       "</style>\n",
       "<table border=\"1\" class=\"dataframe\">\n",
       "  <thead>\n",
       "    <tr style=\"text-align: right;\">\n",
       "      <th></th>\n",
       "      <th>Review</th>\n",
       "    </tr>\n",
       "  </thead>\n",
       "  <tbody>\n",
       "    <tr>\n",
       "      <th>0</th>\n",
       "      <td>First, I got delayed and after I waited for al...</td>\n",
       "    </tr>\n",
       "  </tbody>\n",
       "</table>\n",
       "</div>"
      ],
      "text/plain": [
       "                                              Review\n",
       "0  First, I got delayed and after I waited for al..."
      ]
     },
     "execution_count": 5,
     "metadata": {},
     "output_type": "execute_result"
    }
   ],
   "source": [
    "# Create New Data\n",
    "df_inf = {\n",
    "    'Review' : '''First, I got delayed and after I waited for almost an hour, the flight got cancelled last minute.'''}\n",
    "\n",
    "df_inf = pd.DataFrame([df_inf])\n",
    "df_inf"
   ]
  },
  {
   "cell_type": "code",
   "execution_count": 6,
   "metadata": {},
   "outputs": [
    {
     "data": {
      "text/html": [
       "<div>\n",
       "<style scoped>\n",
       "    .dataframe tbody tr th:only-of-type {\n",
       "        vertical-align: middle;\n",
       "    }\n",
       "\n",
       "    .dataframe tbody tr th {\n",
       "        vertical-align: top;\n",
       "    }\n",
       "\n",
       "    .dataframe thead th {\n",
       "        text-align: right;\n",
       "    }\n",
       "</style>\n",
       "<table border=\"1\" class=\"dataframe\">\n",
       "  <thead>\n",
       "    <tr style=\"text-align: right;\">\n",
       "      <th></th>\n",
       "      <th>Review</th>\n",
       "      <th>Processed Review</th>\n",
       "    </tr>\n",
       "  </thead>\n",
       "  <tbody>\n",
       "    <tr>\n",
       "      <th>0</th>\n",
       "      <td>First, I got delayed and after I waited for al...</td>\n",
       "      <td>first got delay wait almost hour flight got ca...</td>\n",
       "    </tr>\n",
       "  </tbody>\n",
       "</table>\n",
       "</div>"
      ],
      "text/plain": [
       "                                              Review  \\\n",
       "0  First, I got delayed and after I waited for al...   \n",
       "\n",
       "                                    Processed Review  \n",
       "0  first got delay wait almost hour flight got ca...  "
      ]
     },
     "execution_count": 6,
     "metadata": {},
     "output_type": "execute_result"
    }
   ],
   "source": [
    "# Applying Text Preprocessing to the Dataset\n",
    "df_inf['Processed Review'] = df_inf['Review'].apply(lambda x: text_preprocessing(x))\n",
    "df_inf"
   ]
  },
  {
   "cell_type": "code",
   "execution_count": 7,
   "metadata": {},
   "outputs": [
    {
     "name": "stdout",
     "output_type": "stream",
     "text": [
      "1/1 [==============================] - 0s 298ms/step\n"
     ]
    },
    {
     "data": {
      "text/plain": [
       "array([[0.9524613 , 0.04722199]], dtype=float32)"
      ]
     },
     "execution_count": 7,
     "metadata": {},
     "output_type": "execute_result"
    }
   ],
   "source": [
    "model.predict(df_inf['Processed Review'])"
   ]
  },
  {
   "cell_type": "code",
   "execution_count": 8,
   "metadata": {},
   "outputs": [
    {
     "name": "stdout",
     "output_type": "stream",
     "text": [
      "1/1 [==============================] - 0s 32ms/step\n",
      "Not Recommended\n"
     ]
    }
   ],
   "source": [
    "# Predict using ANN\n",
    "y_pred_inf = model.predict(df_inf['Processed Review'])\n",
    "y_pred_inf = np.argmax(y_pred_inf)\n",
    "if y_pred_inf == 0:\n",
    "    print(f'Not Recommended')\n",
    "elif y_pred_inf == 1:\n",
    "    print(f'Recommended')"
   ]
  }
 ],
 "metadata": {
  "kernelspec": {
   "display_name": "hacktive",
   "language": "python",
   "name": "python3"
  },
  "language_info": {
   "codemirror_mode": {
    "name": "ipython",
    "version": 3
   },
   "file_extension": ".py",
   "mimetype": "text/x-python",
   "name": "python",
   "nbconvert_exporter": "python",
   "pygments_lexer": "ipython3",
   "version": "3.9.18"
  }
 },
 "nbformat": 4,
 "nbformat_minor": 2
}
