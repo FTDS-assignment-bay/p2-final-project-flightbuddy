{
  "cells": [
    {
      "cell_type": "markdown",
      "metadata": {},
      "source": [
        "## **Final Project**"
      ]
    },
    {
      "cell_type": "markdown",
      "metadata": {},
      "source": [
        "### **A. Introduction**"
      ]
    },
    {
      "cell_type": "markdown",
      "metadata": {},
      "source": [
        "---\n",
        "\n",
        "**Batch**         : BSD-005  \n",
        "**Group**         : 002  \n",
        "\n",
        "**Team Members**  :\n",
        "- Livia Amanda Annafiah\n",
        "- Alfarabi\n",
        "- Badriah Nursakinah\n",
        "\n",
        "**Dataset**       : [Airline Reviews](https://www.kaggle.com/datasets/juhibhojani/airline-reviews/data)  \n",
        "\n",
        "**Hugging Face**  :\n"
      ]
    },
    {
      "cell_type": "markdown",
      "metadata": {},
      "source": [
        "---\n",
        "\n",
        "**Problem Statement**  \n",
        "\n",
        "Choosing the right airline can greatly affect a traveler's overall experience, including comfort, service quality, and in-flight amenities. With many online reviews available, airline passengers often **rely on these reviews** to make informed decisions about which airline to choose. However, the large number of reviews can make it difficult and **time-consuming** to read through and understand the general opinion about an airline.\n",
        "\n",
        "**FlightBuddy** aims to solve this problem by using advanced Natural Language Processing (NLP) techniques to analyze airline reviews quickly and accurately. By processing and understanding a large number of reviews, FlightBuddy can determine whether the opinions in the reviews are positive or negative."
      ]
    },
    {
      "cell_type": "markdown",
      "metadata": {},
      "source": [
        "---\n",
        "\n",
        "**Objective**  \n",
        "\n",
        "The main goal of **FlightBuddy** is to improve the decision-making process for travelers by providing personalized airline recommendations based on the analysis of review sentiments. Specifically, FlightBuddy aims to:\n",
        "\n",
        "- Analyze the sentiment of airline reviews to classify them as positive or negative.\n",
        "- Recommend five airlines with similar positive characteristics for users who have seen favorable reviews.\n",
        "- Suggest top-rated alternative airlines for users who have encountered negative experiences, ensuring they have better options for future travel."
      ]
    },
    {
      "cell_type": "markdown",
      "metadata": {},
      "source": [
        "### **B. Libraries**"
      ]
    },
    {
      "cell_type": "markdown",
      "metadata": {},
      "source": [
        "The following libraries are used for this analysis:"
      ]
    },
    {
      "cell_type": "code",
      "execution_count": 1,
      "metadata": {
        "id": "gGL_WBh-lF26"
      },
      "outputs": [],
      "source": [
        "# Import libraries for data loading and manipulation\n",
        "import pandas as pd\n",
        "import numpy as np\n",
        "\n",
        "# Import libraries for recommendation system\n",
        "from sklearn.metrics.pairwise import cosine_similarity\n",
        "from sklearn.preprocessing import StandardScaler\n",
        "\n",
        "# Import library to ignore warnings\n",
        "import warnings\n",
        "warnings.filterwarnings('ignore')"
      ]
    },
    {
      "cell_type": "markdown",
      "metadata": {},
      "source": [
        "### **C. Data Loading**"
      ]
    },
    {
      "cell_type": "code",
      "execution_count": 2,
      "metadata": {
        "id": "fwbtMEuylM9p"
      },
      "outputs": [
        {
          "data": {
            "text/html": [
              "<div>\n",
              "<style scoped>\n",
              "    .dataframe tbody tr th:only-of-type {\n",
              "        vertical-align: middle;\n",
              "    }\n",
              "\n",
              "    .dataframe tbody tr th {\n",
              "        vertical-align: top;\n",
              "    }\n",
              "\n",
              "    .dataframe thead th {\n",
              "        text-align: right;\n",
              "    }\n",
              "</style>\n",
              "<table border=\"1\" class=\"dataframe\">\n",
              "  <thead>\n",
              "    <tr style=\"text-align: right;\">\n",
              "      <th></th>\n",
              "      <th>airline_name</th>\n",
              "      <th>avg_seat_comfort</th>\n",
              "      <th>avg_cabin_staff_service</th>\n",
              "      <th>avg_food_beverages</th>\n",
              "      <th>avg_ground_service</th>\n",
              "      <th>avg_inflight_entertainment</th>\n",
              "      <th>avg_wifi_connectivity</th>\n",
              "      <th>avg_value_for_money</th>\n",
              "    </tr>\n",
              "  </thead>\n",
              "  <tbody>\n",
              "    <tr>\n",
              "      <th>0</th>\n",
              "      <td>Air Costa</td>\n",
              "      <td>5.000000</td>\n",
              "      <td>4.000000</td>\n",
              "      <td>3.000000</td>\n",
              "      <td>4.000000</td>\n",
              "      <td>2.000000</td>\n",
              "      <td>1.00</td>\n",
              "      <td>5.00000</td>\n",
              "    </tr>\n",
              "    <tr>\n",
              "      <th>1</th>\n",
              "      <td>UP by El Al</td>\n",
              "      <td>2.000000</td>\n",
              "      <td>2.250000</td>\n",
              "      <td>2.000000</td>\n",
              "      <td>2.500000</td>\n",
              "      <td>2.000000</td>\n",
              "      <td>1.00</td>\n",
              "      <td>2.50000</td>\n",
              "    </tr>\n",
              "    <tr>\n",
              "      <th>2</th>\n",
              "      <td>Iraqi Airways</td>\n",
              "      <td>3.000000</td>\n",
              "      <td>2.750000</td>\n",
              "      <td>2.750000</td>\n",
              "      <td>2.500000</td>\n",
              "      <td>2.750000</td>\n",
              "      <td>1.00</td>\n",
              "      <td>3.00000</td>\n",
              "    </tr>\n",
              "    <tr>\n",
              "      <th>3</th>\n",
              "      <td>Asiana Airlines</td>\n",
              "      <td>3.643286</td>\n",
              "      <td>4.029729</td>\n",
              "      <td>3.819823</td>\n",
              "      <td>3.650000</td>\n",
              "      <td>2.960000</td>\n",
              "      <td>1.57</td>\n",
              "      <td>3.83000</td>\n",
              "    </tr>\n",
              "    <tr>\n",
              "      <th>4</th>\n",
              "      <td>Air Tahiti Nui</td>\n",
              "      <td>2.461307</td>\n",
              "      <td>2.996890</td>\n",
              "      <td>2.605181</td>\n",
              "      <td>1.630000</td>\n",
              "      <td>2.250000</td>\n",
              "      <td>1.11</td>\n",
              "      <td>2.40000</td>\n",
              "    </tr>\n",
              "    <tr>\n",
              "      <th>...</th>\n",
              "      <td>...</td>\n",
              "      <td>...</td>\n",
              "      <td>...</td>\n",
              "      <td>...</td>\n",
              "      <td>...</td>\n",
              "      <td>...</td>\n",
              "      <td>...</td>\n",
              "      <td>...</td>\n",
              "    </tr>\n",
              "    <tr>\n",
              "      <th>492</th>\n",
              "      <td>Copa Airlines</td>\n",
              "      <td>2.160389</td>\n",
              "      <td>2.383309</td>\n",
              "      <td>1.997148</td>\n",
              "      <td>1.570000</td>\n",
              "      <td>1.850000</td>\n",
              "      <td>1.08</td>\n",
              "      <td>1.65000</td>\n",
              "    </tr>\n",
              "    <tr>\n",
              "      <th>493</th>\n",
              "      <td>Eastern Airways</td>\n",
              "      <td>2.496214</td>\n",
              "      <td>3.021872</td>\n",
              "      <td>2.515598</td>\n",
              "      <td>1.555556</td>\n",
              "      <td>1.793651</td>\n",
              "      <td>1.00</td>\n",
              "      <td>2.31532</td>\n",
              "    </tr>\n",
              "    <tr>\n",
              "      <th>494</th>\n",
              "      <td>Aegean Airlines</td>\n",
              "      <td>2.793286</td>\n",
              "      <td>3.201013</td>\n",
              "      <td>2.766253</td>\n",
              "      <td>2.510000</td>\n",
              "      <td>2.170000</td>\n",
              "      <td>1.55</td>\n",
              "      <td>2.49000</td>\n",
              "    </tr>\n",
              "    <tr>\n",
              "      <th>495</th>\n",
              "      <td>WOW air</td>\n",
              "      <td>2.019470</td>\n",
              "      <td>2.448445</td>\n",
              "      <td>1.995721</td>\n",
              "      <td>1.870000</td>\n",
              "      <td>1.570000</td>\n",
              "      <td>1.05</td>\n",
              "      <td>2.00000</td>\n",
              "    </tr>\n",
              "    <tr>\n",
              "      <th>496</th>\n",
              "      <td>Jazz</td>\n",
              "      <td>3.200000</td>\n",
              "      <td>4.600000</td>\n",
              "      <td>3.600000</td>\n",
              "      <td>4.000000</td>\n",
              "      <td>2.200000</td>\n",
              "      <td>1.60</td>\n",
              "      <td>3.80000</td>\n",
              "    </tr>\n",
              "  </tbody>\n",
              "</table>\n",
              "<p>497 rows × 8 columns</p>\n",
              "</div>"
            ],
            "text/plain": [
              "        airline_name  avg_seat_comfort  avg_cabin_staff_service  \\\n",
              "0          Air Costa          5.000000                 4.000000   \n",
              "1        UP by El Al          2.000000                 2.250000   \n",
              "2      Iraqi Airways          3.000000                 2.750000   \n",
              "3    Asiana Airlines          3.643286                 4.029729   \n",
              "4     Air Tahiti Nui          2.461307                 2.996890   \n",
              "..               ...               ...                      ...   \n",
              "492    Copa Airlines          2.160389                 2.383309   \n",
              "493  Eastern Airways          2.496214                 3.021872   \n",
              "494  Aegean Airlines          2.793286                 3.201013   \n",
              "495          WOW air          2.019470                 2.448445   \n",
              "496             Jazz          3.200000                 4.600000   \n",
              "\n",
              "     avg_food_beverages  avg_ground_service  avg_inflight_entertainment  \\\n",
              "0              3.000000            4.000000                    2.000000   \n",
              "1              2.000000            2.500000                    2.000000   \n",
              "2              2.750000            2.500000                    2.750000   \n",
              "3              3.819823            3.650000                    2.960000   \n",
              "4              2.605181            1.630000                    2.250000   \n",
              "..                  ...                 ...                         ...   \n",
              "492            1.997148            1.570000                    1.850000   \n",
              "493            2.515598            1.555556                    1.793651   \n",
              "494            2.766253            2.510000                    2.170000   \n",
              "495            1.995721            1.870000                    1.570000   \n",
              "496            3.600000            4.000000                    2.200000   \n",
              "\n",
              "     avg_wifi_connectivity  avg_value_for_money  \n",
              "0                     1.00              5.00000  \n",
              "1                     1.00              2.50000  \n",
              "2                     1.00              3.00000  \n",
              "3                     1.57              3.83000  \n",
              "4                     1.11              2.40000  \n",
              "..                     ...                  ...  \n",
              "492                   1.08              1.65000  \n",
              "493                   1.00              2.31532  \n",
              "494                   1.55              2.49000  \n",
              "495                   1.05              2.00000  \n",
              "496                   1.60              3.80000  \n",
              "\n",
              "[497 rows x 8 columns]"
            ]
          },
          "execution_count": 2,
          "metadata": {},
          "output_type": "execute_result"
        }
      ],
      "source": [
        "# Read CSV file\n",
        "df = pd.read_csv('avg_ratings_per_airline.csv')\n",
        "\n",
        "# Display the dataframe\n",
        "df"
      ]
    },
    {
      "cell_type": "markdown",
      "metadata": {},
      "source": [
        "### **D. Recommender System**"
      ]
    },
    {
      "cell_type": "code",
      "execution_count": 3,
      "metadata": {
        "id": "-DT8EvMrsmFE"
      },
      "outputs": [],
      "source": [
        "# Normalize the ratings\n",
        "scaler = StandardScaler()\n",
        "\n",
        "rating_columns = ['avg_seat_comfort', 'avg_cabin_staff_service', 'avg_food_beverages', 'avg_ground_service',\n",
        "                  'avg_inflight_entertainment', 'avg_wifi_connectivity', 'avg_value_for_money']\n",
        "\n",
        "normalized_data = scaler.fit_transform(df[rating_columns])\n",
        "\n",
        "# Compute cosine similarity\n",
        "similarity_matrix = cosine_similarity(normalized_data)\n",
        "\n",
        "# Convert the similarity matrix to a DataFrame\n",
        "similarity_df = pd.DataFrame(similarity_matrix, index=df['airline_name'], columns=df['airline_name'])\n",
        "\n",
        "# Function to get recommendations based on cosine similarity\n",
        "def get_similar_airlines(airline, n_recommendations=5):\n",
        "\n",
        "    # Get the similarity scores for the specified airline with all others\n",
        "    similar_scores = similarity_df[airline].sort_values(ascending=False)\n",
        "\n",
        "    # Remove the airline itself from the recommendation\n",
        "    similar_scores = similar_scores.drop(airline)\n",
        "\n",
        "    # Get the top N similar airlines\n",
        "    top_airlines = similar_scores.head(n_recommendations)\n",
        "    return top_airlines"
      ]
    },
    {
      "cell_type": "markdown",
      "metadata": {},
      "source": [
        "### **E. Test the Recommender System**"
      ]
    },
    {
      "cell_type": "code",
      "execution_count": 4,
      "metadata": {
        "colab": {
          "base_uri": "https://localhost:8080/"
        },
        "id": "qf4BYR9ssvLY",
        "outputId": "be6905e6-1da5-4b19-f0d1-ad720c6f3649"
      },
      "outputs": [
        {
          "data": {
            "text/plain": [
              "airline_name\n",
              "Golden Myanmar Airlines    0.991354\n",
              "Air Rarotonga              0.983796\n",
              "Bangkok Airways            0.983468\n",
              "Air KBZ                    0.981220\n",
              "Bassaka Air                0.980871\n",
              "Name: TUS Airways, dtype: float64"
            ]
          },
          "execution_count": 4,
          "metadata": {},
          "output_type": "execute_result"
        }
      ],
      "source": [
        "# Test the function by getting similar airlines to \"TUS Airways\"\n",
        "similar_airlines_to_tus = get_similar_airlines('TUS Airways')\n",
        "\n",
        "# Show result\n",
        "similar_airlines_to_tus"
      ]
    },
    {
      "cell_type": "markdown",
      "metadata": {},
      "source": [
        "### **F. Conclusion**"
      ]
    }
  ],
  "metadata": {
    "colab": {
      "provenance": []
    },
    "kernelspec": {
      "display_name": "Python 3",
      "name": "python3"
    },
    "language_info": {
      "codemirror_mode": {
        "name": "ipython",
        "version": 3
      },
      "file_extension": ".py",
      "mimetype": "text/x-python",
      "name": "python",
      "nbconvert_exporter": "python",
      "pygments_lexer": "ipython3",
      "version": "3.9.18"
    }
  },
  "nbformat": 4,
  "nbformat_minor": 0
}
